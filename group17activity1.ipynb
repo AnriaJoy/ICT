{
 "cells": [
  {
   "cell_type": "code",
   "execution_count": null,
   "metadata": {},
   "outputs": [],
   "source": [
    "group 17\n",
    "Tibin Thomas,Hisham Pathiyil,Lakshmi N Nair,Krishnadas M,Anria Joy"
   ]
  },
  {
   "cell_type": "markdown",
   "metadata": {},
   "source": [
    "## 1. Complete the following code to find the area of an equilateral triangle. Output should be as displayed"
   ]
  },
  {
   "cell_type": "code",
   "execution_count": 2,
   "metadata": {},
   "outputs": [
    {
     "name": "stdout",
     "output_type": "stream",
     "text": [
      "Enter the side of the equilateral triangle: 5\n",
      "Area =  10.83\n"
     ]
    }
   ],
   "source": [
    "import math\n",
    "side = float(input(\"Enter the side of the equilateral triangle: \"))\n",
    "area = ((math.sqrt(3))/4)*pow(side,2)\n",
    "print(\"Area = \",round(area,2))\n"
   ]
  },
  {
   "cell_type": "markdown",
   "metadata": {},
   "source": [
    "# 2. Write a program to count the number of each characters in a string"
   ]
  },
  {
   "cell_type": "code",
   "execution_count": 11,
   "metadata": {},
   "outputs": [
    {
     "name": "stdout",
     "output_type": "stream",
     "text": [
      "Enter the string :hello world\n",
      "o - 2\n",
      "r - 1\n",
      "l - 3\n",
      "d - 1\n",
      "w - 1\n",
      "h - 1\n",
      "e - 1\n"
     ]
    }
   ],
   "source": [
    "string=input(\"Enter the string :\")\n",
    "lst=set(string)\n",
    "for i in lst:\n",
    "    if i==\" \":\n",
    "        continue\n",
    "    else:\n",
    "        print(i, \"-\" ,string.count(i))\n",
    "    "
   ]
  },
  {
   "cell_type": "markdown",
   "metadata": {},
   "source": [
    "## 3. Write a program to find the area and perimeter of a rectangle using functions"
   ]
  },
  {
   "cell_type": "code",
   "execution_count": 12,
   "metadata": {},
   "outputs": [
    {
     "name": "stdout",
     "output_type": "stream",
     "text": [
      "enter the length of the rectangle6\n",
      "enter the breadth of the rectangle12\n",
      "Area of the rectangle = 72.0\n",
      "Perimeter of the rectangle = 36.0\n"
     ]
    }
   ],
   "source": [
    "l=float(input(\"enter the length of the rectangle\"))\n",
    "b=float(input(\"enter the breadth of the rectangle\"))\n",
    "area=l*b\n",
    "perimeter=2*(l+b)\n",
    "print(\"Area of the rectangle =\",area)\n",
    "print(\"Perimeter of the rectangle =\",perimeter)"
   ]
  },
  {
   "cell_type": "markdown",
   "metadata": {},
   "source": [
    "## 4. Write a program to print the fibonacci series till a specified number"
   ]
  },
  {
   "cell_type": "code",
   "execution_count": 1,
   "metadata": {},
   "outputs": [
    {
     "name": "stdout",
     "output_type": "stream",
     "text": [
      "Enter the number of terms in the fibonacci series: 5\n",
      "0\n",
      "1\n",
      "1\n",
      "2\n",
      "3\n"
     ]
    }
   ],
   "source": [
    "a=0\n",
    "b=1\n",
    "n=int(input(\"Enter the number of terms in the fibonacci series: \"))\n",
    "count=0\n",
    "if n <= 0:\n",
    "   print(\"Please enter a positive integer\")\n",
    "elif n == 1:\n",
    "   print(\"Fibonacci sequence upto\",n,\":\")\n",
    "   print(a)\n",
    "\n",
    "else:\n",
    "   while count < n:\n",
    "       print(a)\n",
    "       c = a + b\n",
    "       a = b\n",
    "       b = c\n",
    "       count += 1"
   ]
  },
  {
   "cell_type": "markdown",
   "metadata": {},
   "source": [
    "## 5. Complete the following code to find the minimum of 3 number using conditional statements. Output should be as displayed"
   ]
  },
  {
   "cell_type": "code",
   "execution_count": 15,
   "metadata": {},
   "outputs": [
    {
     "name": "stdout",
     "output_type": "stream",
     "text": [
      "Enter three numbers followed by  : -19 100 -9\n",
      "First number : -19\n",
      "Second number : 100\n",
      "Third number : -9\n",
      "-19  is smallest\n"
     ]
    }
   ],
   "source": [
    "a,b,c = input(\"Enter three numbers followed by  : \").split()\n",
    "\n",
    "print(\"First number :\",a)\n",
    "print(\"Second number :\",b)\n",
    "print(\"Third number :\",c)\n",
    "if a==b==c:\n",
    "    print(\"Entered numbers are equal!!!\")\n",
    "elif a<b and a<c:\n",
    "    print(a,\" is smallest\")\n",
    "elif b<a and b<c:\n",
    "    print(b,\" is smallest\")\n",
    "else:\n",
    "    print(c,\" is smallest\")"
   ]
  },
  {
   "cell_type": "markdown",
   "metadata": {},
   "source": [
    "## 6. Write a program to print star pyramind. The number of rows should be taken as input from the user"
   ]
  },
  {
   "cell_type": "code",
   "execution_count": 38,
   "metadata": {},
   "outputs": [
    {
     "name": "stdout",
     "output_type": "stream",
     "text": [
      "enter the number of rows in the pyramid5\n",
      "     \n",
      "    *\n",
      "   ***\n",
      "  *****\n",
      " *******\n",
      "*********\n"
     ]
    }
   ],
   "source": [
    "n=int(input(\"enter the number of rows in the pyramid\"))\n",
    "\n",
    "for i in range(0,n+1):\n",
    "    for j in range(0,n-i):\n",
    "        print(end=\" \")\n",
    "    \n",
    "    for j in range(0,(2*i)-1):\n",
    "        print(\"*\",end=\"\")\n",
    "    print()"
   ]
  },
  {
   "cell_type": "markdown",
   "metadata": {},
   "source": [
    "## 7. Complete the following code to convert hour into seconds. Output should be as displayed"
   ]
  },
  {
   "cell_type": "code",
   "execution_count": 39,
   "metadata": {
    "scrolled": true
   },
   "outputs": [
    {
     "name": "stdout",
     "output_type": "stream",
     "text": [
      "Enter the time in hours24\n",
      "24  Hour is equal to 86400  Seconds\n"
     ]
    }
   ],
   "source": [
    "def to_seconds(t):\n",
    "    t=t * 60 * 60\n",
    "    return t\n",
    "time_in_hours =int(input(\"Enter the time in hours\"))\n",
    "print(time_in_hours ,\" Hour is equal to\" ,to_seconds(time_in_hours) ,\" Seconds\")"
   ]
  },
  {
   "cell_type": "markdown",
   "metadata": {},
   "source": [
    "## 8. Write a program to print multiplication table as below"
   ]
  },
  {
   "cell_type": "code",
   "execution_count": 1,
   "metadata": {},
   "outputs": [
    {
     "name": "stdout",
     "output_type": "stream",
     "text": [
      "Enter the number to find the multiplication table: 67\n",
      "1  x  67  =  67\n",
      "2  x  67  =  134\n",
      "3  x  67  =  201\n",
      "4  x  67  =  268\n",
      "5  x  67  =  335\n",
      "6  x  67  =  402\n",
      "7  x  67  =  469\n",
      "8  x  67  =  536\n",
      "9  x  67  =  603\n",
      "10  x  67  =  670\n"
     ]
    }
   ],
   "source": [
    "number=int(input(\"Enter the number to find the multiplication table: \"))\n",
    "for i in range(1,11):\n",
    "    print(i,\" x \",number,\" = \",i*number)"
   ]
  },
  {
   "cell_type": "markdown",
   "metadata": {},
   "source": [
    "## 9. Write a program to take your 5 favorite food as list and print each as 'I like Biriyani'"
   ]
  },
  {
   "cell_type": "code",
   "execution_count": 1,
   "metadata": {},
   "outputs": [
    {
     "name": "stdout",
     "output_type": "stream",
     "text": [
      "Enter the name of your five favourite foods:Biriyani Pizza Friedrice Burger Chocolate\n",
      "I like  Biriyani\n",
      "I like  Pizza\n",
      "I like  Friedrice\n",
      "I like  Burger\n",
      "I like  Chocolate\n"
     ]
    }
   ],
   "source": [
    "food=input(\"Enter the name of your five favourite foods:\")\n",
    "list=food.split()\n",
    "\n",
    "for name in list:\n",
    "    print(\"I like \",name)"
   ]
  }
 ],
 "metadata": {
  "kernelspec": {
   "display_name": "Python 3",
   "language": "python",
   "name": "python3"
  },
  "language_info": {
   "codemirror_mode": {
    "name": "ipython",
    "version": 3
   },
   "file_extension": ".py",
   "mimetype": "text/x-python",
   "name": "python",
   "nbconvert_exporter": "python",
   "pygments_lexer": "ipython3",
   "version": "3.8.8"
  }
 },
 "nbformat": 4,
 "nbformat_minor": 4
}
